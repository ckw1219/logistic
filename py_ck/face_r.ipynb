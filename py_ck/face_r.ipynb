{
 "cells": [
  {
   "cell_type": "code",
   "execution_count": 37,
   "metadata": {
    "scrolled": false
   },
   "outputs": [
    {
     "name": "stdout",
     "output_type": "stream",
     "text": [
      "{'faces': [{'face_rectangle': {'height': 193,\n",
      "                               'left': 186,\n",
      "                               'top': 282,\n",
      "                               'width': 193},\n",
      "            'face_token': '0314f22cd29108bdd3a5a5a8d6b87a80'}],\n",
      " 'image_id': 'OdFwdSGw5Mi3F9SFSb0iuQ==',\n",
      " 'request_id': '1512443149,ec95bd66-8583-4d95-964a-8b9b86213b7a',\n",
      " 'results': [{'confidence': 89.306,\n",
      "              'face_token': '93d6a1a007bffd3d4c19e15ea26994e7',\n",
      "              'user_id': ''}],\n",
      " 'thresholds': {'1e-3': 62.327, '1e-4': 69.101, '1e-5': 73.975},\n",
      " 'time_used': 517}\n",
      "ck\n",
      "b'led Activated\\n'\n",
      "led_ok\n"
     ]
    }
   ],
   "source": [
    "import requests  \n",
    "from json import JSONDecoder\n",
    "import cv2\n",
    "import json\n",
    "from pprint import pprint\n",
    "import serial\n",
    "cap = cv2.VideoCapture(0)\n",
    "\n",
    "while(1):\n",
    "    ret,frame = cap.read()\n",
    "    cv2.imshow(\"capture\",frame)\n",
    "    if cv2.waitKey(1) & 0xFF == ord('q'):\n",
    "        cv2.imwrite(\"/home/ck/图片/Webcam/face2.jpg\",frame)\n",
    "        break\n",
    "cap.release()\n",
    "cv2.destroyAllWindows()\n",
    "\n",
    "url = 'https://api-cn.faceplusplus.com/facepp/v3/search' \n",
    "payload = {'api_key': '8COjIhIxLHwi1ocvGb2_xG-V08pmO4k-',  \n",
    "           'api_secret': 'JOn4E1S65ogYn7_AJ3-6wUHCfE8m-DTT',  \n",
    "           'faceset_token':'c8a1aff06dbcb65e33293e7766d8e001',  \n",
    "           }  \n",
    "filepath = '/home/ck/图片/Webcam/face2.jpg'\n",
    "files = {\"image_file\":open(filepath,\"rb\")}\n",
    "r = requests.post(url,files=files,data=payload)\n",
    "data = json.loads(r.text)\n",
    "pprint(data)\n",
    "flag =0\n",
    "if data[\"results\"][0][\"face_token\"] == \"93d6a1a007bffd3d4c19e15ea26994e7\" and data[\"results\"][0][\"confidence\"]>=data[\"thresholds\"][\"1e-5\"]:\n",
    "    print(\"ck\")\n",
    "    flag = 1\n",
    "elif data[\"results\"][0][\"face_token\"] == \"c3a7507c4a63b1945088966b2da7ead1\" and data[\"results\"][0][\"confidence\"]>=data[\"thresholds\"][\"1e-5\"]:\n",
    "    print(\"ck\")\n",
    "    flag = 1\n",
    "elif data[\"results\"][0][\"face_token\"] == \"70f87eedde7ca02d72d06aae2150bae3\" and data[\"results\"][0][\"confidence\"]>=data[\"thresholds\"][\"1e-5\"]:\n",
    "    print(\"ck\")\n",
    "    flag = 1\n",
    "else:\n",
    "    print('error')\n",
    "device = '/dev/ttyUSB1'    \n",
    "arduino = serial.Serial(device,9600)\n",
    "\n",
    "if(flag==1):   \n",
    "    try:\n",
    "        arduino.write(b\"Y\")\n",
    "        #time.sleep(1)\n",
    "        print(arduino.readline())\n",
    "        print('led_ok')\n",
    "    except:\n",
    "        print(\"Failed to send\")    "
   ]
  },
  {
   "cell_type": "code",
   "execution_count": null,
   "metadata": {},
   "outputs": [],
   "source": []
  },
  {
   "cell_type": "code",
   "execution_count": null,
   "metadata": {},
   "outputs": [],
   "source": []
  }
 ],
 "metadata": {
  "kernelspec": {
   "display_name": "Python 3",
   "language": "python",
   "name": "python3"
  },
  "language_info": {
   "codemirror_mode": {
    "name": "ipython",
    "version": 3
   },
   "file_extension": ".py",
   "mimetype": "text/x-python",
   "name": "python",
   "nbconvert_exporter": "python",
   "pygments_lexer": "ipython3",
   "version": "3.5.2"
  }
 },
 "nbformat": 4,
 "nbformat_minor": 2
}
